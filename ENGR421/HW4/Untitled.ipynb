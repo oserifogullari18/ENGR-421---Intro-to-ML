{
 "cells": [
  {
   "cell_type": "code",
   "execution_count": null,
   "id": "0c00f977",
   "metadata": {},
   "outputs": [],
   "source": [
    "import math\n",
    "import matplotlib.pyplot as plt\n",
    "import numpy as np\n",
    "import scipy.stats as stats\n",
    "from statistics import mode"
   ]
  },
  {
   "cell_type": "code",
   "execution_count": null,
   "id": "c2727179",
   "metadata": {},
   "outputs": [],
   "source": [
    "# read data into memory\n",
    "data_set = np.genfromtxt(\"/Users/ozlemserifogullari/Documents/ENGR421/HW4/hw04_data_set_train.csv\", delimiter = \",\", skip_header = 0)\n",
    "\n",
    "# get x and y values\n",
    "x_train = data_set[:,0]\n",
    "y_train = data_set[:,1]\n",
    "\n",
    "# get number of samples\n",
    "N = data_set.shape[0]\n"
   ]
  },
  {
   "cell_type": "code",
   "execution_count": null,
   "id": "85955040",
   "metadata": {},
   "outputs": [],
   "source": [
    "test_set = np.genfromtxt(\"/Users/ozlemserifogullari/Documents/ENGR421/HW4/hw04_data_set_test.csv\", delimiter = \",\", skip_header = 0)\n",
    "\n",
    "# get x and y values\n",
    "x_test = test_set[:,0]\n",
    "y_test = test_set[:,1]\n",
    "\n",
    "# get number of test case\n",
    "N_test = test_set.shape[0]\n",
    "\n",
    "    "
   ]
  },
  {
   "cell_type": "code",
   "execution_count": null,
   "id": "40833104",
   "metadata": {},
   "outputs": [],
   "source": [
    "#REGRESSOGRAM\n",
    "\n",
    "\n",
    "def regressogram(x, y, lb, rb, no_bins):\n",
    "    result = np.zeros(no_bins)\n",
    "    \n",
    "    for i in range(no_bins):\n",
    "        result[i] = np.sum([(1 if x[n] > lb[i] and x[n] <= rb[i] else 0) * y[n] for n in range (N)]) / np.sum([1 if x[n] > lb[i] and x[n] <= rb[i] else 0 for n in range (N)])\n",
    "                             \n",
    "    return result\n",
    "\n",
    "def plot_regressogram (regressogram, no_bin, lb, rb):\n",
    "    plt.figure(figsize = (10, 5))\n",
    "    plt.xlabel(\"Time(sec)\")\n",
    "    plt.ylabel(\"Signal(millivolt)\")\n",
    "    \n",
    "    plt.plot(x_train, y_train, \"b.\", markersize = 10, label = \"Training\")\n",
    "    plt.legend(loc = \"upper right\")\n",
    "   \n",
    "    for n in range(no_bin):\n",
    "        plt.plot([lb[n], rb[n]], [regressogram[n], regressogram[n]], \"k-\")\n",
    "    for n in range(no_bin - 1):\n",
    "        plt.plot([rb[n], rb[n]], [regressogram[n], regressogram[n + 1]], \"k-\")\n",
    "        \n",
    "    plt.figure(figsize = (10, 5))\n",
    "    plt.xlabel(\"Time(sec)\")\n",
    "    plt.ylabel(\"Signal(millivolt)\")\n",
    "    \n",
    "    plt.plot(x_test, y_test, \"r.\", markersize = 10, label = \"Test\")\n",
    "    plt.legend(loc = \"upper right\")\n",
    "    \n",
    "    for n in range(no_bin):\n",
    "        plt.plot([lb[n], rb[n]], [regressogram[n], regressogram[n]], \"k-\")\n",
    "    for n in range(no_bin - 1):\n",
    "        plt.plot([rb[n], rb[n]], [regressogram[n], regressogram[n + 1]], \"k-\")\n"
   ]
  },
  {
   "cell_type": "code",
   "execution_count": null,
   "id": "80f52a76",
   "metadata": {},
   "outputs": [],
   "source": [
    "#parameters\n",
    "\n",
    "bw = 0.1\n",
    "origin = 0.0\n",
    "\n",
    "minX = min(x_train)\n",
    "maxX = max(x_train)\n",
    "left_bound = np.arange(origin, maxX, bw)\n",
    "right_bound = np.arange(origin + bw, maxX+ bw, bw)\n",
    "no_bins = len(left_bound)\n"
   ]
  },
  {
   "cell_type": "code",
   "execution_count": null,
   "id": "63e5aee8",
   "metadata": {
    "scrolled": true
   },
   "outputs": [],
   "source": [
    "# calculate and plot regressogram\n",
    "r = regressogram(x_train, y_train, left_bound, right_bound, no_bins)\n",
    "plot_regressogram(r, no_bins, left_bound, right_bound)"
   ]
  },
  {
   "cell_type": "code",
   "execution_count": null,
   "id": "92c213a5",
   "metadata": {},
   "outputs": [],
   "source": [
    "def predict_reg(lb, rb, no_bin, test, regressogram):\n",
    "    y_pred = np.zeros(N_test)\n",
    "    for i in range (no_bin):\n",
    "        for j in range (N_test):\n",
    "            if test[j] > lb[i] and test[j] <= rb[i]:\n",
    "                y_pred[j] = regressogram[i]\n",
    "    return y_pred\n",
    "                \n",
    "def RMSE(y, y_head):\n",
    "    sum = np.sum((y - y_head)**2)\n",
    "    avg = float(sum) / N_test\n",
    "    error = np.sqrt(avg)\n",
    "    return error\n",
    "    \n",
    "def RMSE_reg(lb, rb, no_bin, regressogram) :\n",
    "    sum = 0.0\n",
    "    for i in range (no_bin):\n",
    "        for j in range (N_test):\n",
    "            if x_test[j] > lb[i] and x_test[j] <= rb[i]:\n",
    "                sum = sum + (y_test[j] - regressogram[i])**2\n",
    "\n",
    "    avg = sum / N_test\n",
    "    error = np.sqrt(avg)\n",
    "    return error\n"
   ]
  },
  {
   "cell_type": "code",
   "execution_count": null,
   "id": "bdcc267e",
   "metadata": {},
   "outputs": [],
   "source": [
    "# predict values\n",
    "y_pred_reg = predict_reg(left_bound, right_bound, no_bins, x_test, r)\n",
    "\n",
    "# calculate RMSE for regressogram\n",
    "print(\"Regressogram => RMSE is \", RMSE(y_test, y_pred_reg), \" when h is \", bw)"
   ]
  },
  {
   "cell_type": "code",
   "execution_count": null,
   "id": "3fb990ae",
   "metadata": {},
   "outputs": [],
   "source": [
    "# RUNNING MEAN SMOOTHER\n",
    "\n",
    "def mean_smoother(x, y, interval, h):\n",
    "    no_points = len(interval)\n",
    "    result = np.zeros(no_points)\n",
    "    \n",
    "    for i in range (no_points):\n",
    "        result[i] = np.sum([(1 if (interval[i] - 0.5*h) < x[n] and (interval[i] + 0.5*h) >= x[n] else 0) * y[n] for n in range (N)]) / np.sum([1 if (interval[i] - 0.5*h) < x[n] and (interval[i] + 0.5*h) >= x[n] else 0 for n in range (N)]) \n",
    "        \n",
    "    return result\n",
    "\n",
    "def predict_rms(rms, interval):\n",
    "    y_pred = np.zeros(N_test)\n",
    "    \n",
    "    for i in range (N_test):\n",
    "        # take the rms result of the data interval points that close the corresponding test value\n",
    "        # without atol parameter the result is always an empty set so I added an arbitrary number\n",
    "        possible = rms[np.where(np.isclose(interval, x_test[i], 0.0008))]\n",
    "        if len(possible) != 0: #if there is any close data interval points predict as the first result\n",
    "            y_pred[i] = possible[0]\n",
    "        elif i!= 0: # otherwise if i is not 0 predict as the average of previous predictions\n",
    "            y_pred[i] = np.average(y_pred[0:i])\n",
    "        \n",
    "    return y_pred\n",
    "\n",
    "def plot_rms(interval, rms):\n",
    "    # training data\n",
    "    plt.figure(figsize = (10, 5))\n",
    "    plt.xlabel(\"Time(sec)\")\n",
    "    plt.ylabel(\"Signal(millivolt)\")\n",
    "    \n",
    "    plt.plot(x_train, y_train, \"b.\", markersize = 10, label = \"Training\")\n",
    "    plt.legend(loc = \"upper right\")\n",
    "    plt.plot(data_interval, rms, \"k-\")\n",
    "    \n",
    "    # test data\n",
    "    plt.figure(figsize = (10, 5))\n",
    "    plt.xlabel(\"Time(sec)\")\n",
    "    plt.ylabel(\"Signal(millivolt)\")\n",
    "    \n",
    "    plt.plot(x_test, y_test, \"r.\", markersize = 10, label = \"Test\")\n",
    "    plt.legend(loc = \"upper right\")\n",
    "    plt.plot(data_interval, rms, \"k-\")"
   ]
  },
  {
   "cell_type": "code",
   "execution_count": null,
   "id": "ef8fbb2c",
   "metadata": {},
   "outputs": [],
   "source": [
    "# parameters\n",
    "\n",
    "bw = 0.1"
   ]
  },
  {
   "cell_type": "code",
   "execution_count": null,
   "id": "01bc1550",
   "metadata": {},
   "outputs": [],
   "source": [
    "data_interval = np.linspace(minX, maxX, 1601)\n",
    "rms = mean_smoother(x_train, y_train, data_interval, bw)\n",
    "plot_rms(data_interval, rms)"
   ]
  },
  {
   "cell_type": "code",
   "execution_count": null,
   "id": "6ad966db",
   "metadata": {},
   "outputs": [],
   "source": [
    "# predict values\n",
    "y_pred_rms = predict_rms(rms, data_interval)\n",
    "\n",
    "# calculate RMSE for running mean smoother\n",
    "print(\"Running Mean Smoother  => RMSE is \", RMSE(y_test, y_pred_rms), \" when h is \", bw)"
   ]
  },
  {
   "cell_type": "code",
   "execution_count": null,
   "id": "4a5ce826",
   "metadata": {},
   "outputs": [],
   "source": [
    "# KERNEL SMOOTHER\n",
    "\n",
    "def kernel_smoother(x, y, interval, h):\n",
    "    no_points = len(interval)\n",
    "    result = np.zeros(no_points)\n",
    "    for i in range (no_points):\n",
    "        result[i] = np.sum([(1.0 / np.sqrt(2 * math.pi) * np.exp(-0.5 * (interval[i] - x[n])**2 / h**2)) * y[n] for n in range(N)]) / np.sum([1.0 / np.sqrt(2 * math.pi) * np.exp(-0.5 * (interval[i] - x[n])**2 / h**2) for n in range(N)])\n",
    "    \n",
    "    return result\n",
    "\n",
    "def predict_ks(ks, interval):\n",
    "    y_pred = np.zeros(N_test)\n",
    "    \n",
    "    for i in range (N_test):\n",
    "        # take the rms result of the data interval points that close the corresponding test value\n",
    "        # without atol parameter the result is always an empty set so I added an arbitrary number\n",
    "        possible = ks[np.where(np.isclose(interval, x_test[i], 0.0008))]\n",
    "        if len(possible) != 0: # if there is any close data interval points predict as the first result \n",
    "            y_pred[i] = possible[0]\n",
    "        elif i != 0: # otherwise if i is not 0 predict as the average of previous predictions\n",
    "            y_pred[i] = np.average(y_pred[0:i])\n",
    "        \n",
    "    return y_pred\n",
    "\n",
    "def plot_ks(interval, ks):\n",
    "    # training data\n",
    "    plt.figure(figsize = (10, 5))\n",
    "    plt.xlabel(\"Time(sec)\")\n",
    "    plt.ylabel(\"Signal(millivolt)\")\n",
    "    \n",
    "    plt.plot(x_train, y_train, \"b.\", markersize = 10, label = \"Training\")\n",
    "    plt.legend(loc = \"upper right\")\n",
    "    plt.plot(data_interval, ks, \"k-\")\n",
    "    \n",
    "    # test data\n",
    "    plt.figure(figsize = (10, 5))\n",
    "    plt.xlabel(\"Time(sec)\")\n",
    "    plt.ylabel(\"Signal(millivolt)\")\n",
    "    \n",
    "    plt.plot(x_test, y_test, \"r.\", markersize = 10, label = \"Test\")\n",
    "    plt.legend(loc = \"upper right\")\n",
    "    plt.plot(data_interval, ks, \"k-\")\n",
    "\n"
   ]
  },
  {
   "cell_type": "code",
   "execution_count": null,
   "id": "032c28e0",
   "metadata": {},
   "outputs": [],
   "source": [
    "# parameters\n",
    "\n",
    "bw = 0.02"
   ]
  },
  {
   "cell_type": "code",
   "execution_count": null,
   "id": "f6047190",
   "metadata": {},
   "outputs": [],
   "source": [
    "data_interval = np.linspace(minX, maxX, 1601)\n",
    "ks = kernel_smoother(x_train, y_train, data_interval, bw)\n",
    "plot_rms(data_interval, ks)"
   ]
  },
  {
   "cell_type": "code",
   "execution_count": null,
   "id": "fc4d07d6",
   "metadata": {},
   "outputs": [],
   "source": [
    "# predict values\n",
    "y_pred_ks = predict_ks(ks, data_interval)\n",
    "\n",
    "# calculate RMSE for running mean smoother\n",
    "print(\"Kernel Smoother  => RMSE is \", RMSE(y_test, y_pred_ks), \" when h is \", bw)"
   ]
  },
  {
   "cell_type": "code",
   "execution_count": null,
   "id": "96ae0eb5",
   "metadata": {},
   "outputs": [],
   "source": []
  }
 ],
 "metadata": {
  "kernelspec": {
   "display_name": "Python 3",
   "language": "python",
   "name": "python3"
  },
  "language_info": {
   "codemirror_mode": {
    "name": "ipython",
    "version": 3
   },
   "file_extension": ".py",
   "mimetype": "text/x-python",
   "name": "python",
   "nbconvert_exporter": "python",
   "pygments_lexer": "ipython3",
   "version": "3.8.8"
  }
 },
 "nbformat": 4,
 "nbformat_minor": 5
}
