{
 "cells": [
  {
   "cell_type": "code",
   "execution_count": 1,
   "id": "25810f89",
   "metadata": {},
   "outputs": [],
   "source": [
    "import math\n",
    "import matplotlib.pyplot as plt\n",
    "import numpy as np\n",
    "import scipy.linalg as linalg\n",
    "import scipy.stats as stats\n",
    "import pandas as pd\n"
   ]
  },
  {
   "cell_type": "code",
   "execution_count": 2,
   "id": "b2120c3e",
   "metadata": {},
   "outputs": [],
   "source": [
    "# read csv file into memory based lab1\n",
    "images = np.genfromtxt(\"/Users/ozlemserifogullari/Documents/ENGR421/HW2/hw02_data_set_images.csv\", delimiter = \",\", skip_header = 0)"
   ]
  },
  {
   "cell_type": "code",
   "execution_count": 3,
   "id": "4a18eae1",
   "metadata": {},
   "outputs": [],
   "source": [
    "#creating data set\n",
    "points1 = [images[i] for i in range(25)]\n",
    "points2 = [images[i] for i in range(39,64)]\n",
    "points3 = [images[i] for i in range(78,103)]\n",
    "points4 = [images[i] for i in range(117, 117+25)]\n",
    "points5 = [images[i] for i in range(156, 156+25)]\n",
    "\n",
    "x = np.concatenate((points1, points2, points3,points4,points5))"
   ]
  },
  {
   "cell_type": "code",
   "execution_count": 4,
   "id": "4fb4c93d",
   "metadata": {},
   "outputs": [],
   "source": [
    "#since the data lables are ordered (explained in homework description) it can be implemented as below\n",
    "y = np.concatenate((np.repeat(1, 25), np.repeat(2, 25), np.repeat(3, 25), np.repeat(4, 25), np.repeat(5, 25)))\n",
    "y_test = np.concatenate((np.repeat(1, 14), np.repeat(2, 14), np.repeat(3, 14), np.repeat(4, 14), np.repeat(5, 14)))"
   ]
  },
  {
   "cell_type": "code",
   "execution_count": 5,
   "id": "f95e6636",
   "metadata": {},
   "outputs": [],
   "source": [
    "N = len(x) #number of data points\n",
    "K = np.max(y) #number of classes\n",
    "D = x[0].shape[0] #dimension of data vectors"
   ]
  },
  {
   "cell_type": "code",
   "execution_count": 6,
   "id": "2f6d0ece",
   "metadata": {},
   "outputs": [],
   "source": [
    "#creating test cases\n",
    "test_data = np.concatenate((np.copy(images[25:39]), np.copy(images[64:78]), np.copy(images[103:117]), np.copy(images[117+25:156]), np.copy(images[156+25:195])))"
   ]
  },
  {
   "cell_type": "code",
   "execution_count": 7,
   "id": "f96bbaf0",
   "metadata": {},
   "outputs": [],
   "source": [
    "#y_truth values for training data\n",
    "y_truth = np.zeros((N, K)).astype(int)\n",
    "y_truth[range(N), y - 1] = 1"
   ]
  },
  {
   "cell_type": "code",
   "execution_count": 8,
   "id": "a89660c3",
   "metadata": {},
   "outputs": [],
   "source": [
    "# define the sigmoid function\n",
    "def sigmoid(X, w, w0):\n",
    "    return(1 / (1 + np.exp(-(np.matmul(X, w) + w0))))"
   ]
  },
  {
   "cell_type": "code",
   "execution_count": 9,
   "id": "e73358e5",
   "metadata": {},
   "outputs": [],
   "source": [
    "# derivative of the sigmoid function with respect to the equation inside of exp\n",
    "def derivative_sigmoid(X,w,w0):\n",
    "    return sigmoid(X, w, w0)*(1-sigmoid(X, w, w0))"
   ]
  },
  {
   "cell_type": "code",
   "execution_count": 10,
   "id": "3455a11e",
   "metadata": {},
   "outputs": [],
   "source": [
    "# define the gradient functions\n",
    "def gradient_w(X, y_truth, y_predicted):\n",
    "    return(np.asarray([-np.matmul((y_truth[:,c] - y_predicted[:,c])*derivative_sigmoid(X,w,w0)[:,c], X) for c in range(K)]).transpose())\n",
    "\n",
    "def gradient_w0(y_truth, y_predicted):\n",
    "    return(-np.sum((y_truth - y_predicted)*(y_predicted)*(1 - y_predicted), axis = 0))"
   ]
  },
  {
   "cell_type": "code",
   "execution_count": 11,
   "id": "0040d865",
   "metadata": {},
   "outputs": [],
   "source": [
    "# set learning parameters\n",
    "eta = 0.001\n",
    "epsilon = 0.001"
   ]
  },
  {
   "cell_type": "code",
   "execution_count": 12,
   "id": "8b825226",
   "metadata": {},
   "outputs": [],
   "source": [
    "# randomly initalize w and w0\n",
    "np.random.seed(521)\n",
    "w = np.random.uniform(low = -0.01, high = 0.01, size = (D,K))\n",
    "w0 = np.random.uniform(low = -0.01, high = 0.01, size = (1,K))"
   ]
  },
  {
   "cell_type": "code",
   "execution_count": 13,
   "id": "92072572",
   "metadata": {},
   "outputs": [
    {
     "name": "stdout",
     "output_type": "stream",
     "text": [
      "[[-0.00728541 -0.04717805 -0.0064784   0.11853905 -0.0201066 ]\n",
      " [-0.07204392  0.01709467 -0.12557301  0.19249038  0.03612131]\n",
      " [-0.07021928  0.05251612 -0.12856793  0.14121555  0.03373028]\n",
      " ...\n",
      " [ 0.02958495  0.13190939  0.04029442 -0.1382699  -0.12186406]\n",
      " [ 0.05515989 -0.1582695   0.04774339 -0.18321361 -0.02011078]\n",
      " [ 0.07315547 -0.24020322  0.08474811 -0.1491183  -0.01616374]]\n",
      "[[-0.05083666 -0.16558016 -0.00297532 -0.03719019 -0.15879033]]\n"
     ]
    }
   ],
   "source": [
    "# learn w and w0 using gradient descent\n",
    "iteration = 1\n",
    "objective_values = []\n",
    "while True:\n",
    "    y_predicted = sigmoid(x, w, w0)\n",
    "    \n",
    "    objective_values = np.append(objective_values, 0.5*np.sum((y_truth-y_predicted)**2))\n",
    "\n",
    "    w_old = w\n",
    "    w0_old = w0\n",
    "\n",
    "    w = w - eta * gradient_w(x, y_truth, y_predicted)\n",
    "    w0 = w0 - eta * gradient_w0(y_truth, y_predicted)\n",
    "\n",
    "    if np.sqrt(np.sum((w0 - w0_old))**2 + np.sum((w - w_old)**2)) < epsilon:\n",
    "        break\n",
    "\n",
    "    iteration = iteration + 1\n",
    "print(w)\n",
    "print(w0)"
   ]
  },
  {
   "cell_type": "code",
   "execution_count": 14,
   "id": "662ebaea",
   "metadata": {},
   "outputs": [
    {
     "data": {
      "image/png": "[encoded data removed]",
      "text/plain": [
       "<Figure size 576x288 with 1 Axes>"
      ]
     },
     "metadata": {
      "needs_background": "light"
     },
     "output_type": "display_data"
    }
   ],
   "source": [
    "#Draw the objective function values\n",
    "plt.figure(figsize = (8, 4))\n",
    "plt.plot(range(1, iteration + 1), objective_values, \"k-\")\n",
    "plt.xlabel(\"Iteration\")\n",
    "plt.ylabel(\"Error\")\n",
    "plt.show()"
   ]
  },
  {
   "cell_type": "code",
   "execution_count": 15,
   "id": "dfffe729",
   "metadata": {},
   "outputs": [
    {
     "name": "stdout",
     "output_type": "stream",
     "text": [
      "y_truth   1   2   3   4   5\n",
      "y_pred                     \n",
      "1        25   0   0   0   0\n",
      "2         0  25   0   0   0\n",
      "3         0   0  25   0   0\n",
      "4         0   0   0  25   0\n",
      "5         0   0   0   0  25\n"
     ]
    }
   ],
   "source": [
    "# calculate confusion matrix for training data\n",
    "y_predicted_classes = np.argmax(y_predicted, axis = 1) + 1\n",
    "y_truth_classes = np.argmax(y_truth, axis = 1) + 1\n",
    "confusion_matrix = pd.crosstab(y_predicted_classes, y_truth_classes, rownames = ['y_pred'], colnames = ['y_truth'])\n",
    "print(confusion_matrix)"
   ]
  },
  {
   "cell_type": "code",
   "execution_count": 16,
   "id": "607b6aa3",
   "metadata": {},
   "outputs": [
    {
     "name": "stdout",
     "output_type": "stream",
     "text": [
      "y_truth   1   2   3   4   5\n",
      "y_pred                     \n",
      "1        13   1   0   0   0\n",
      "2         1  11   0   0   2\n",
      "3         0   0  14   0   0\n",
      "4         0   0   0  14   0\n",
      "5         0   2   0   0  12\n"
     ]
    }
   ],
   "source": [
    "y_predicted = sigmoid(test_data, w, w0)\n",
    "y_predicted_classes = np.argmax(y_predicted, axis = 1) + 1\n",
    "#change y_truth to test data\n",
    "y_truth = np.zeros((len(y_test), K)).astype(int)\n",
    "y_truth[range(len(y_test)), y_test - 1] = 1\n",
    "y_truth_classes = np.argmax(y_truth, axis = 1) + 1\n",
    "confusion_matrix = pd.crosstab(y_predicted_classes, y_truth_classes, rownames = ['y_pred'], colnames = ['y_truth'])\n",
    "print(confusion_matrix)\n"
   ]
  },
  {
   "cell_type": "code",
   "execution_count": null,
   "id": "05df88a7",
   "metadata": {},
   "outputs": [],
   "source": []
  }
 ],
 "metadata": {
  "kernelspec": {
   "display_name": "Python 3",
   "language": "python",
   "name": "python3"
  },
  "language_info": {
   "codemirror_mode": {
    "name": "ipython",
    "version": 3
   },
   "file_extension": ".py",
   "mimetype": "text/x-python",
   "name": "python",
   "nbconvert_exporter": "python",
   "pygments_lexer": "ipython3",
   "version": "3.8.8"
  }
 },
 "nbformat": 4,
 "nbformat_minor": 5
}
