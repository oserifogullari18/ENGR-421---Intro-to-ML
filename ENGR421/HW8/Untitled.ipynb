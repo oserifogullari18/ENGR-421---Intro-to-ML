{
 "cells": [
  {
   "cell_type": "code",
   "execution_count": 4,
   "id": "88c140ab",
   "metadata": {},
   "outputs": [],
   "source": [
    "import matplotlib.pyplot as plt\n",
    "import numpy as np\n",
    "import scipy.spatial as spa\n",
    "import scipy.stats as stats"
   ]
  },
  {
   "cell_type": "code",
   "execution_count": 5,
   "id": "865ac56a",
   "metadata": {},
   "outputs": [
    {
     "name": "stdout",
     "output_type": "stream",
     "text": [
      "(1000, 2)\n",
      "(9, 2)\n"
     ]
    }
   ],
   "source": [
    "data_set = np.genfromtxt(\"/Users/ozlemserifogullari/Documents/ENGR421/HW8/hw08_data_set.csv\", delimiter = \",\", skip_header = 0)\n",
    "initial_cent = np.genfromtxt(\"/Users/ozlemserifogullari/Documents/ENGR421/HW8/hw08_initial_centroids.csv\", delimiter = \",\", skip_header = 0)\n",
    "\n",
    "X = data_set\n",
    "print(x.shape)\n",
    "print(initial_cent.shape)\n",
    "\n",
    "N = x.shape[0]\n",
    "K = initial_cent.shape[0]\n",
    "D = x.shape[1]\n"
   ]
  },
  {
   "cell_type": "code",
   "execution_count": null,
   "id": "4e4abf52",
   "metadata": {},
   "outputs": [],
   "source": [
    "# update centeroids\n",
    "\n",
    "def update_centroids(memberships, X):\n",
    "    if memberships is None:\n",
    "        # initialize centroids\n",
    "        centroids = X[np.random.choice(range(N), K, False),:]\n",
    "    else:\n",
    "        # update centroids\n",
    "        centroids = np.vstack([np.mean(X[memberships == k,:], axis = 0) for k in range(K)])\n",
    "    return(centroids)\n",
    "\n",
    "# update memberships\n",
    "\n",
    "def update_memberships(centroids, X):\n",
    "    # calculate distances between centroids and data points\n",
    "    D = spa.distance_matrix(centroids, X)\n",
    "    # find the nearest centroid for each data point\n",
    "    memberships = np.argmin(D, axis = 0)\n",
    "    return(memberships)"
   ]
  },
  {
   "cell_type": "code",
   "execution_count": 6,
   "id": "42b1a18d",
   "metadata": {},
   "outputs": [
    {
     "name": "stdout",
     "output_type": "stream",
     "text": [
      "<function h_calculator at 0x7fecaba838b0>\n"
     ]
    }
   ],
   "source": [
    "# E-step\n",
    "\n",
    "def h_calculator(priors, means, covs):\n",
    "    for k in range(K):\n",
    "        for i in range(N):\n",
    "            gaussian = stats.multivariate_normal.pdf(X[i],np.reshape(means[k], (2,)), covs[k])\n",
    "            h[i][k] = (priors[k] * gaussian) \n",
    "            h[i][k] /= np.sum(h, axis=1)[i]\n",
    "    return np.array(h)\n",
    "\n",
    "# M-step\n",
    "\n",
    "def covariances(X, means,h, K):\n",
    "    covs = []\n",
    "    for k in range(K):\n",
    "        current_mean = means[k]\n",
    "        current_h = np.sum(h, axis = 0)[k]\n",
    "        total = np.sum([h[i][k]*np.matmul(np.transpose((np.reshape(X[i],(1,D))-current_mean)), (np.reshape(X[i],(1,D))- current_mean)) for i in range (N)], axis=0)\n",
    "        cov = total / current_h\n",
    "        covs.append(cov)\n",
    "    return np.array(covs)\n",
    "\n",
    "def means(h, X, K):\n",
    "    means = []\n",
    "    for k in range (K):\n",
    "        total = np.reshape(np.array(np.sum([h[i][k]*X[i] for i in range(N)], axis = 0)), (1,D))\n",
    "        current_h = np.sum(h, axis = 0)[k]\n",
    "        means.append(total / current_h)\n",
    "    return np.array(means)\n",
    "        \n",
    "    \n",
    "def priors(X, h, K):\n",
    "    priors = []\n",
    "    for k in range(K):\n",
    "        current_h = np.sum(h, axis = 0)[k]\n",
    "        ps.append(current_h / N)\n",
    "    return priors\n"
   ]
  },
  {
   "cell_type": "code",
   "execution_count": null,
   "id": "b3dd4947",
   "metadata": {},
   "outputs": [],
   "source": [
    "centroids = initial_cent\n",
    "memberships = None\n",
    "iterartion = 100\n",
    "\n",
    "for i in range(iteration):\n",
    "    "
   ]
  },
  {
   "cell_type": "code",
   "execution_count": null,
   "id": "4a0ba781",
   "metadata": {},
   "outputs": [],
   "source": [
    "# EM \n",
    "\n",
    "\n"
   ]
  },
  {
   "cell_type": "code",
   "execution_count": null,
   "id": "e7eb61f0",
   "metadata": {},
   "outputs": [],
   "source": []
  }
 ],
 "metadata": {
  "kernelspec": {
   "display_name": "Python 3",
   "language": "python",
   "name": "python3"
  },
  "language_info": {
   "codemirror_mode": {
    "name": "ipython",
    "version": 3
   },
   "file_extension": ".py",
   "mimetype": "text/x-python",
   "name": "python",
   "nbconvert_exporter": "python",
   "pygments_lexer": "ipython3",
   "version": "3.8.8"
  }
 },
 "nbformat": 4,
 "nbformat_minor": 5
}
